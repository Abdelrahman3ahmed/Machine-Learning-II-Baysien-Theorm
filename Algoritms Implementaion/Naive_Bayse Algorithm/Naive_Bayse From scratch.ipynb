{
 "cells": [
  {
   "cell_type": "markdown",
   "metadata": {},
   "source": [
    "# Import Liabraies"
   ]
  },
  {
   "cell_type": "code",
   "execution_count": 20,
   "metadata": {},
   "outputs": [],
   "source": [
    "import numpy as np\n",
    "from sklearn import datasets\n",
    "from sklearn.model_selection import train_test_split\n",
    "from sklearn.naive_bayes import GaussianNB"
   ]
  },
  {
   "cell_type": "markdown",
   "metadata": {},
   "source": [
    "# Naive Class"
   ]
  },
  {
   "cell_type": "code",
   "execution_count": 15,
   "metadata": {},
   "outputs": [],
   "source": [
    "class naive:\n",
    "    def fit(self , X , y):\n",
    "        self.n_samples , self.n_features = X.shape\n",
    "        self.n_classes = len(np.unique(y))\n",
    "        \n",
    "        \n",
    "        self.mean = np.zeros((self.n_classes , self.n_features))\n",
    "        self.var = np.zeros((self.n_classes , self.n_features))\n",
    "        self.priors = np.zeros(self.n_classes)\n",
    "        \n",
    "        for i in range(self.n_classes):\n",
    "            samplesof_Class = X[i == y]  \n",
    "            self.mean[i , :] = np.mean(samplesof_Class , axis = 0)\n",
    "            self.var[i , :] = np.var(samplesof_Class , axis = 0)\n",
    "            self.priors[i] = len(samplesof_Class)/self.n_samples\n",
    "            \n",
    "            \n",
    "    def predict(self , X):\n",
    "        y_hat = []\n",
    "        for i in (X):\n",
    "            y_hat.append(self.get_class_props(i))\n",
    "        return y_hat\n",
    "    \n",
    "    \n",
    "    def get_class_props(self , x):\n",
    "        postrior = []\n",
    "        \n",
    "        for i in range(self.n_classes):\n",
    "            mean = self.mean[i]\n",
    "            var = self.var[i]\n",
    "            prior = np.log(self.priors[i])\n",
    "\n",
    "            post = np.sum(np.log(self.gaussian_prop(x, mean, var)))\n",
    "            post = prior + post\n",
    "            postrior.append(post)\n",
    "\n",
    "        return np.argmax(postrior)\n",
    "        \n",
    "        \n",
    "        \n",
    "    def gaussian_prop(self , x , mean ,var):\n",
    "        C = 1/(np.sqrt(var * np.pi * 2))\n",
    "        prop = np.exp((-1/2) *(np.square(x - mean) / var))\n",
    "        \n",
    "        return C*prop"
   ]
  },
  {
   "cell_type": "code",
   "execution_count": 16,
   "metadata": {},
   "outputs": [
    {
     "name": "stdout",
     "output_type": "stream",
     "text": [
      "Naive Bayes Accuracy:  0.9666666666666667\n"
     ]
    }
   ],
   "source": [
    "iris = datasets.load_iris()\n",
    "X = iris.data\n",
    "y = iris.target\n",
    "\n",
    "X_train, X_test, y_train, y_test = train_test_split(X, y, test_size=0.2, random_state=1)\n",
    "\n",
    "def get_accuracy(y_true, y_hat):\n",
    "    return np.sum(y_true==y_hat) / len(y_true)\n",
    "\n",
    "naive_object = naive()\n",
    "naive_object.fit(X_train, y_train)\n",
    "predictions = naive_object.predict(X_test)\n",
    "\n",
    "print('Naive Bayes Accuracy: ', get_accuracy(y_test, predictions))"
   ]
  },
  {
   "cell_type": "code",
   "execution_count": 22,
   "metadata": {},
   "outputs": [
    {
     "name": "stdout",
     "output_type": "stream",
     "text": [
      "Naive Bayes Accuracy:  0.9666666666666667\n"
     ]
    }
   ],
   "source": [
    "sk_nb  = GaussianNB()\n",
    "sk_nb.fit(X_train, y_train)\n",
    "sk_predictions = sk_nb.predict(X_test)\n",
    "print('Naive Bayes Accuracy: ', get_accuracy(y_test, predictions))"
   ]
  },
  {
   "cell_type": "code",
   "execution_count": null,
   "metadata": {},
   "outputs": [],
   "source": []
  }
 ],
 "metadata": {
  "kernelspec": {
   "display_name": "Python 3",
   "language": "python",
   "name": "python3"
  },
  "language_info": {
   "codemirror_mode": {
    "name": "ipython",
    "version": 3
   },
   "file_extension": ".py",
   "mimetype": "text/x-python",
   "name": "python",
   "nbconvert_exporter": "python",
   "pygments_lexer": "ipython3",
   "version": "3.8.5"
  }
 },
 "nbformat": 4,
 "nbformat_minor": 4
}
