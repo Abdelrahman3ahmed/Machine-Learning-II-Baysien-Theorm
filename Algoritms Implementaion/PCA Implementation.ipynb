{
 "cells": [
  {
   "cell_type": "code",
   "execution_count": 150,
   "metadata": {},
   "outputs": [],
   "source": [
    "import numpy as np\n",
    "import pandas as pd\n",
    "import matplotlib.pyplot as plt\n",
    "\n",
    "class PCA ():\n",
    "\n",
    "    def __init__(self,n_components = 0.95):\n",
    "        self.n_components = n_components\n",
    "        if self.n_components > 1:\n",
    "            self.type = 'var'\n",
    "        else:\n",
    "            self.type = 'ratio'\n",
    "\n",
    "    def fit(self,X):\n",
    "\n",
    "        self.mean = np.mean(X.T)\n",
    "        self.variance = np.var(X.T)\n",
    "        X_norrmailzed = (X-self.mean)/np.sqrt(self.variance)\n",
    "        X_new = X_norrmailzed\n",
    "#         print(\"X is {}\".format(X_new))\n",
    "#         print(\"\\n \\n \\n \\n\")\n",
    "        cov_matrix = np.cov(X_norrmailzed.T)\n",
    "#         print(\"cov is {}\".format(cov_matrix))\n",
    "#         print(\"\\n \\n \\n \\n\")\n",
    "        eig_values , eig_vectors = np.linalg.eig(cov_matrix)\n",
    "#         print(\"eig val {}\".format(eig_vectors))\n",
    "#         print(\"\\n \\n \\n \\n\")\n",
    "        print(eig_values.shape , eig_vectors.shape)\n",
    "        if(self.n_components > 1):\n",
    "            self.components = eig_vectors[:,0:self.n_components]\n",
    "            self.explained_variance = eig_values[0:self.n_components]\n",
    "\n",
    "        else:\n",
    "            self.Cumlative_sum = eig_values.cumsum()\n",
    "            print(self.Cumlative_sum)\n",
    "            \n",
    "            self.index_of_ratio = np.where(self.Cumlative_sum >= self.n_components*10)[0][0]\n",
    "            print(self.index_of_ratio)\n",
    "            self.components = eig_vectors[:, 0:self.index_of_ratio+1]\n",
    "            self.explained_variance = eig_values[0:self.index_of_ratio+1]\n",
    "\n",
    "\n",
    "\n",
    "\n",
    "        # self.components = #matrix (n,)\n",
    "        return X_new\n",
    "\n",
    "    def transform(self,Z):\n",
    "        Z_new = (Z - self.mean )/ np.sqrt(self.variance)\n",
    "        Z_new = Z_new.dot(self.components)\n",
    "\n",
    "        return Z_new\n",
    "\n",
    "    #optional \n",
    "    def plot_explained_variance(self):\n",
    "        plt.bar( self.Cumlative_sum , self.Cumlative_sum)\n",
    "        plt.axhline(self.Cumlative_sum[self.index_of_ratio], color='red', ls='dotted')\n",
    "        plt.xlabel(\"Cumlative index\")\n",
    "        plt.ylabel(\"Therthold\")\n",
    "        plt.title(\"plot_explained_variance\")\n",
    "        plt.show()\n",
    "        \n",
    "\n"
   ]
  },
  {
   "cell_type": "code",
   "execution_count": 151,
   "metadata": {},
   "outputs": [
    {
     "name": "stdout",
     "output_type": "stream",
     "text": [
      "(18,) (18, 18)\n",
      "[ 4.62329543  6.33788637  7.70654298  8.82700553  9.84546975 10.293621\n",
      " 10.54587159 10.71355144 10.71361319 10.71361988 10.71362535 10.7136257\n",
      " 10.71362574 10.71362574 10.71362574 10.71362575 10.71362576 10.71362578]\n",
      "4\n",
      "[4.62329543 1.71459094 1.36865661 1.12046255 1.01846422]\n"
     ]
    }
   ],
   "source": [
    "df = pd.read_csv(\"CCdata.csv\")\n",
    "X = df.to_numpy()\n",
    "pca_section = PCA(n_components=0.95)\n",
    "X_transofmed = pca_section.fit(X)\n",
    "\n",
    "X_transofmed = pca_section.transform(X)\n",
    "pca_section.components #return matrix (n,4)\n",
    "print(pca_section.explained_variance )#return list len = 4"
   ]
  },
  {
   "cell_type": "code",
   "execution_count": 152,
   "metadata": {},
   "outputs": [
    {
     "data": {
      "image/png": "[encoded data removed]",
      "text/plain": [
       "<Figure size 432x288 with 1 Axes>"
      ]
     },
     "metadata": {
      "needs_background": "light"
     },
     "output_type": "display_data"
    }
   ],
   "source": [
    "pca_section.plot_explained_variance()"
   ]
  },
  {
   "cell_type": "code",
   "execution_count": null,
   "metadata": {},
   "outputs": [],
   "source": []
  },
  {
   "cell_type": "code",
   "execution_count": null,
   "metadata": {},
   "outputs": [],
   "source": []
  }
 ],
 "metadata": {
  "kernelspec": {
   "display_name": "Python 3",
   "language": "python",
   "name": "python3"
  },
  "language_info": {
   "codemirror_mode": {
    "name": "ipython",
    "version": 3
   },
   "file_extension": ".py",
   "mimetype": "text/x-python",
   "name": "python",
   "nbconvert_exporter": "python",
   "pygments_lexer": "ipython3",
   "version": "3.8.5"
  }
 },
 "nbformat": 4,
 "nbformat_minor": 4
}
