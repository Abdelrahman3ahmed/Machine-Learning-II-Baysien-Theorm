{
 "cells": [
  {
   "cell_type": "code",
   "execution_count": 37,
   "metadata": {},
   "outputs": [],
   "source": [
    "import numpy as np\n",
    "import pandas as pd\n",
    "import matplotlib.pyplot as plt\n",
    "\n",
    "class PCA ():\n",
    "\n",
    "    def __init__(self,n_components = 0.95):\n",
    "        self.n_components = n_components\n",
    "        if self.n_components > 1:\n",
    "            self.type = 'var'\n",
    "        else:\n",
    "            self.type = 'ratio'\n",
    "\n",
    "    def fit(self,X):\n",
    "\n",
    "        self.mean = np.mean(X , axis = 0)\n",
    "        self.variance = np.var(X , axis =0)\n",
    "        X_norrmailzed = (X-self.mean)/np.sqrt(self.variance)\n",
    "#         /np.sqrt(self.variance)\n",
    "        X_new = X_norrmailzed.copy()\n",
    "#         print(\"X is {}\".format(X_new))\n",
    "#         print(\"\\n \\n \\n \\n\")\n",
    "        cov_matrix = np.cov(X_norrmailzed.T)\n",
    "#         print(\"cov is {}\".format(cov_matrix))\n",
    "#         print(\"\\n \\n \\n \\n\")\n",
    "        eig_values , eig_vectors = np.linalg.eig(cov_matrix)\n",
    "        index = np.argsort(eig_values, axis=0)\n",
    "        eig_values = eig_values[index]\n",
    "        eig_vectors = eig_vectors[: , index]\n",
    "        eig_values = eig_values[::-1]\n",
    "        eig_vectors = eig_vectors[::-1]\n",
    "#         print(\"eig val {}\".format(eig_vectors))\n",
    "#         print(\"\\n \\n \\n \\n\")\n",
    "        eig_values = eig_values / np.sum(eig_values , axis = 0)\n",
    "        if(self.n_components > 1):\n",
    "            self.components = eig_vectors[:,0:self.n_components] \n",
    "            \n",
    "            self.explained_variance = eig_values[0:self.n_components]\n",
    "            self.Cumlative_sum = eig_values.cumsum()\n",
    "  \n",
    "            self.index_of_ratio = self.n_components\n",
    "            \n",
    "\n",
    "        else:\n",
    "            self.Cumlative_sum = eig_values.cumsum()\n",
    "  \n",
    "            self.index_of_ratio = np.where(self.Cumlative_sum >= self.n_components)[0][0]\n",
    "           \n",
    "            self.components = eig_vectors[:, 0:self.index_of_ratio+1]\n",
    "            self.explained_variance = eig_values[0:self.index_of_ratio+1]\n",
    "\n",
    "\n",
    "\n",
    "\n",
    "        # self.components = #matrix (n,)\n",
    "        return X_new\n",
    "\n",
    "    def transform(self,Z):\n",
    "        Z_new = (Z - self.mean )/np.sqrt(self.variance)\n",
    "#         / np.sqrt(self.variance)\n",
    "        Z_new = Z_new.dot(self.components)\n",
    "\n",
    "        return Z_new\n",
    "\n",
    "    #optional \n",
    "    def plot_explained_variance(self):\n",
    "        plt.bar( np.arange(self.index_of_ratio+1) , self.Cumlative_sum[0:self.index_of_ratio+1])\n",
    "        plt.axhline(self.Cumlative_sum[self.index_of_ratio], color='red', ls='dotted')\n",
    "        plt.xlabel(\"Cumlative index\")\n",
    "        plt.ylabel(\"Therthold\")\n",
    "        plt.title(\"plot_explained_variance\")\n",
    "        plt.show()\n",
    "        \n",
    "\n"
   ]
  },
  {
   "cell_type": "code",
   "execution_count": 38,
   "metadata": {
    "scrolled": true
   },
   "outputs": [
    {
     "name": "stdout",
     "output_type": "stream",
     "text": [
      "[0.26013741 0.19398937 0.08353155 0.0770953  0.06036567 0.05798774\n",
      " 0.04870506 0.04146732 0.03683556 0.03490864 0.02892084 0.02237816\n",
      " 0.01666276]\n",
      "(8950, 13)\n"
     ]
    }
   ],
   "source": [
    "df = pd.read_csv(\"CCdata.csv\")\n",
    "X = df.to_numpy()\n",
    "pca_section = PCA(n_components=0.95)\n",
    "X_transofmed = pca_section.fit(X)\n",
    "\n",
    "X_transofmed = pca_section.transform(X)\n",
    "pca_section.components #return matrix (n,4)\n",
    "print(pca_section.explained_variance )#return list len = 4\n",
    "print(X_transofmed.shape)"
   ]
  },
  {
   "cell_type": "code",
   "execution_count": 39,
   "metadata": {},
   "outputs": [
    {
     "data": {
      "image/png": "[encoded data removed]",
      "text/plain": [
       "<Figure size 432x288 with 1 Axes>"
      ]
     },
     "metadata": {
      "needs_background": "light"
     },
     "output_type": "display_data"
    }
   ],
   "source": [
    "pca_section.plot_explained_variance()"
   ]
  },
  {
   "cell_type": "code",
   "execution_count": null,
   "metadata": {},
   "outputs": [],
   "source": []
  },
  {
   "cell_type": "code",
   "execution_count": 40,
   "metadata": {},
   "outputs": [
    {
     "name": "stdout",
     "output_type": "stream",
     "text": [
      "[0.26013741 0.19398937 0.08353155 0.0770953  0.06036567 0.05798774\n",
      " 0.04870506 0.04146732 0.03683556 0.03490864 0.02892084 0.02237816\n",
      " 0.01666276]\n"
     ]
    }
   ],
   "source": [
    "data_mean = np.mean(X , axis = 0)\n",
    "data_variance = np.var(X , axis =0)\n",
    "data_norrmailzed = (X-data_mean)/np.sqrt(data_variance)\n",
    "from sklearn.decomposition import PCA\n",
    "pca = PCA(n_components=0.95)\n",
    "pca.fit(data_norrmailzed)\n",
    "print(pca.explained_variance_ratio_)\n",
    "Cumlative_sum = pca.explained_variance_.cumsum()\n",
    "index_of_ratio = 6"
   ]
  },
  {
   "cell_type": "code",
   "execution_count": 41,
   "metadata": {},
   "outputs": [
    {
     "data": {
      "image/png": "[encoded data removed]",
      "text/plain": [
       "<Figure size 432x288 with 1 Axes>"
      ]
     },
     "metadata": {
      "needs_background": "light"
     },
     "output_type": "display_data"
    }
   ],
   "source": [
    "plt.bar( np.arange(index_of_ratio) , Cumlative_sum[0:index_of_ratio])\n",
    "plt.axhline(Cumlative_sum[index_of_ratio-1], color='red', ls='dotted')\n",
    "plt.xlabel(\"Cumlative index\")\n",
    "plt.ylabel(\"Therthold\")\n",
    "plt.title(\"plot_explained_variance\")\n",
    "plt.show()"
   ]
  },
  {
   "cell_type": "code",
   "execution_count": null,
   "metadata": {},
   "outputs": [],
   "source": []
  }
 ],
 "metadata": {
  "kernelspec": {
   "display_name": "Python 3",
   "language": "python",
   "name": "python3"
  },
  "language_info": {
   "codemirror_mode": {
    "name": "ipython",
    "version": 3
   },
   "file_extension": ".py",
   "mimetype": "text/x-python",
   "name": "python",
   "nbconvert_exporter": "python",
   "pygments_lexer": "ipython3",
   "version": "3.8.5"
  }
 },
 "nbformat": 4,
 "nbformat_minor": 4
}
